{
 "cells": [
  {
   "cell_type": "code",
   "execution_count": 12,
   "id": "376e42fc",
   "metadata": {},
   "outputs": [],
   "source": [
    "import numpy as np\n",
    "import matplotlib.pyplot as plt\n",
    "\n",
    "# Parameters\n",
    "n_distributions = 100000 # number of distributions, here exponential, we can say we have this many random variables\n",
    "n_points = 10  # number of data points in each distribution\n",
    "\n",
    "\n",
    "scales = np.random.uniform(1, 10, size=n_distributions)\n",
    "\n",
    "# Initialize array to hold the sums\n",
    "summed_data = np.zeros(n_points)\n",
    "\n",
    "for i in range(n_distributions):\n",
    "    sampleData = np.random.default_rng().exponential(scale=scales[i], size=n_points) # generate exponential data\n",
    "    summed_data += sampleData # here we are just summing up all the random variables, and making a new distribution, i.e. a new random variable\n",
    "\n"
   ]
  },
  {
   "cell_type": "code",
   "execution_count": null,
   "id": "e47bf763",
   "metadata": {},
   "outputs": [],
   "source": [
    "\n",
    "meanSum = np.mean(summed_data)\n",
    "stdDev = np.std(summed_data)\n",
    "\n",
    "standardized_data = (summed_data - meanSum) / stdDev\n",
    "standardMean = np.mean(standardized_data)\n",
    "print(\"standardMean:\", standardMean)\n",
    "\n",
    "standardStdDev = np.std(standardized_data)\n",
    "print(\"standardStdDev:\", standardStdDev)"
   ]
  },
  {
   "cell_type": "code",
   "execution_count": null,
   "id": "d01725e3",
   "metadata": {},
   "outputs": [],
   "source": [
    "# Plotting\n",
    "plt.figure(figsize=(12, 6))\n",
    "\n",
    "plt.hist(standardized_data, bins=30, density=True, alpha=0.6, color='g', label='Standardized Sum of Exponentials')\n",
    "plt.title('Central Limit Theorem Demonstration')\n",
    "plt.xlabel('Standardized Value')\n",
    "plt.ylabel('Density')"
   ]
  }
 ],
 "metadata": {
  "kernelspec": {
   "display_name": ".venv",
   "language": "python",
   "name": "python3"
  },
  "language_info": {
   "codemirror_mode": {
    "name": "ipython",
    "version": 3
   },
   "file_extension": ".py",
   "mimetype": "text/x-python",
   "name": "python",
   "nbconvert_exporter": "python",
   "pygments_lexer": "ipython3",
   "version": "3.13.7"
  }
 },
 "nbformat": 4,
 "nbformat_minor": 5
}
